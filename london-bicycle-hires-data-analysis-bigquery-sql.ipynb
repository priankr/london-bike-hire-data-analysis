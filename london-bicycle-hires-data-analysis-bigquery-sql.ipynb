{
 "cells": [
  {
   "cell_type": "markdown",
   "metadata": {},
   "source": [
    "Analysis of BigQuery Public Dataset on London Biclycle Hires. \n",
    "\n",
    "Dataset contains the number of hires of London's Santander Cycle Hire Scheme from 2011 to present. Data includes start and stop timestamps, station names and ride duration."
   ]
  },
  {
   "cell_type": "code",
   "execution_count": 42,
   "metadata": {
    "execution": {
     "iopub.execute_input": "2021-09-25T14:11:38.414008Z",
     "iopub.status.busy": "2021-09-25T14:11:38.412866Z",
     "iopub.status.idle": "2021-09-25T14:11:39.490865Z",
     "shell.execute_reply": "2021-09-25T14:11:39.489730Z",
     "shell.execute_reply.started": "2021-09-25T14:11:38.413953Z"
    }
   },
   "outputs": [],
   "source": [
    "import numpy as np\n",
    "import pandas as pd\n",
    "import matplotlib.pyplot as plt\n",
    "import seaborn as sns"
   ]
  },
  {
   "cell_type": "code",
   "execution_count": 1,
   "metadata": {
    "_kg_hide-output": true,
    "execution": {
     "iopub.execute_input": "2021-09-25T13:25:15.366830Z",
     "iopub.status.busy": "2021-09-25T13:25:15.365641Z",
     "iopub.status.idle": "2021-09-25T13:25:34.737966Z",
     "shell.execute_reply": "2021-09-25T13:25:34.736984Z",
     "shell.execute_reply.started": "2021-09-25T13:25:15.366629Z"
    },
    "jupyter": {
     "source_hidden": true
    }
   },
   "outputs": [],
   "source": [
    "# Set up feedback system\n",
    "from learntools.core import binder\n",
    "binder.bind(globals())\n",
    "from learntools.sql_advanced.ex2 import *"
   ]
  },
  {
   "cell_type": "code",
   "execution_count": 2,
   "metadata": {
    "_kg_hide-output": true,
    "execution": {
     "iopub.execute_input": "2021-09-25T13:25:34.742736Z",
     "iopub.status.busy": "2021-09-25T13:25:34.742430Z",
     "iopub.status.idle": "2021-09-25T13:25:36.763788Z",
     "shell.execute_reply": "2021-09-25T13:25:36.762774Z",
     "shell.execute_reply.started": "2021-09-25T13:25:34.742703Z"
    }
   },
   "outputs": [],
   "source": [
    "from google.cloud import bigquery\n",
    "\n",
    "# Create a \"Client\" object\n",
    "client = bigquery.Client()\n",
    "\n",
    "# Construct a reference to the \"london_bicycle\" dataset\n",
    "dataset_ref = client.dataset(\"london_bicycles\", project=\"bigquery-public-data\")\n",
    "\n",
    "# API request - fetch the dataset\n",
    "dataset = client.get_dataset(dataset_ref)\n",
    "\n",
    "# Construct a reference to the \"cycle_hire\" and \"cycle_stations\" tables\n",
    "cycle_hire_table_ref = dataset_ref.table(\"cycle_hire\")\n",
    "cycle_stations_table_ref = dataset_ref.table(\"cycle_stations\")\n",
    "\n",
    "# API request - fetch the table\n",
    "cycle_hire_table = client.get_table(cycle_hire_table_ref)\n",
    "cycle_stations_table = client.get_table(cycle_stations_table_ref)"
   ]
  },
  {
   "cell_type": "code",
   "execution_count": 3,
   "metadata": {
    "execution": {
     "iopub.execute_input": "2021-09-25T13:27:43.944173Z",
     "iopub.status.busy": "2021-09-25T13:27:43.943890Z",
     "iopub.status.idle": "2021-09-25T13:27:44.554874Z",
     "shell.execute_reply": "2021-09-25T13:27:44.554118Z",
     "shell.execute_reply.started": "2021-09-25T13:27:43.944145Z"
    }
   },
   "outputs": [],
   "source": [
    "# Preview the first five lines of cycle_hire_table\n",
    "client.list_rows(cycle_hire_table, max_results=5).to_dataframe()"
   ]
  },
  {
   "cell_type": "code",
   "execution_count": 4,
   "metadata": {
    "execution": {
     "iopub.execute_input": "2021-09-25T13:27:44.557461Z",
     "iopub.status.busy": "2021-09-25T13:27:44.556556Z",
     "iopub.status.idle": "2021-09-25T13:27:45.095990Z",
     "shell.execute_reply": "2021-09-25T13:27:45.095043Z",
     "shell.execute_reply.started": "2021-09-25T13:27:44.557413Z"
    }
   },
   "outputs": [],
   "source": [
    "# Preview the first five lines of cycle_stations_table\n",
    "client.list_rows(cycle_stations_table, max_results=5).to_dataframe()"
   ]
  },
  {
   "cell_type": "markdown",
   "metadata": {},
   "source": [
    "# Extracting Tabular Data Through BigQuery/SQL \n",
    "## Trip Duration"
   ]
  },
  {
   "cell_type": "code",
   "execution_count": 5,
   "metadata": {
    "execution": {
     "iopub.execute_input": "2021-09-25T13:27:51.049774Z",
     "iopub.status.busy": "2021-09-25T13:27:51.049496Z",
     "iopub.status.idle": "2021-09-25T13:27:52.852164Z",
     "shell.execute_reply": "2021-09-25T13:27:52.851165Z",
     "shell.execute_reply.started": "2021-09-25T13:27:51.049745Z"
    }
   },
   "outputs": [],
   "source": [
    "# Query to count the trip duration for the top 100 trips \n",
    "bike_trips_query = \"\"\"\n",
    "                    SELECT\n",
    "                        bike_id,\n",
    "                        trip_duration_minutes,\n",
    "                        start_station_name,\n",
    "                        end_station_name,\n",
    "                        trip_year\n",
    "                    FROM(\n",
    "                        SELECT \n",
    "                        bike_id,\n",
    "                        start_station_name,\n",
    "                        end_station_name,\n",
    "                        -- Calculating the trip duration in minutes -- \n",
    "                        DATETIME_DIFF(end_date,start_date,minute) AS trip_duration_minutes,\n",
    "                        -- Identifying the trip year--\n",
    "                        EXTRACT(YEAR FROM start_date) as trip_year\n",
    "                        FROM `bigquery-public-data.london_bicycles.cycle_hire`\n",
    "                        -- Between the years of 2016 and 2017 -- \n",
    "                        WHERE EXTRACT(YEAR FROM start_date) BETWEEN 2015 AND 2017\n",
    "                        LIMIT 100 \n",
    "                    ) AS t\n",
    "                    ORDER BY trip_duration_minutes DESC\n",
    "                  \"\"\"\n",
    "\n",
    "# Run the query, and return a pandas DataFrame\n",
    "trip_duration_result = client.query(bike_trips_query).result().to_dataframe()\n",
    "trip_duration_result.head()"
   ]
  },
  {
   "cell_type": "markdown",
   "metadata": {},
   "source": [
    "We now have a table of the 100 longest bike trips along with their duration, origin, destination between 2015 and 2017.\n",
    "## Daily Number of Trips"
   ]
  },
  {
   "cell_type": "code",
   "execution_count": 6,
   "metadata": {
    "execution": {
     "iopub.execute_input": "2021-09-25T13:34:20.693785Z",
     "iopub.status.busy": "2021-09-25T13:34:20.693143Z",
     "iopub.status.idle": "2021-09-25T13:34:26.059671Z",
     "shell.execute_reply": "2021-09-25T13:34:26.058484Z",
     "shell.execute_reply.started": "2021-09-25T13:34:20.693744Z"
    }
   },
   "outputs": [],
   "source": [
    "# Query to count the daily number of trips in 2015 as well as the cumalative number of trips\n",
    "bike_trips_query = \"\"\"\n",
    "                    -- Creating a sub query block trips_by_day with trip dates and number of trips --\n",
    "                    WITH trips_by_day AS\n",
    "                    (\n",
    "                    SELECT \n",
    "                        DATE(start_date) AS trip_date,\n",
    "                        COUNT(*) as num_trips\n",
    "                    FROM `bigquery-public-data.london_bicycles.cycle_hire`\n",
    "                    WHERE EXTRACT(YEAR FROM start_date) = 2015\n",
    "                    GROUP BY trip_date\n",
    "                    )\n",
    "\n",
    "                    SELECT *,\n",
    "                    SUM(num_trips) \n",
    "                    OVER (\n",
    "                            ORDER BY trip_date\n",
    "                            --Calculates the running total of number of trips--\n",
    "                            ROWS BETWEEN UNBOUNDED PRECEDING AND CURRENT ROW\n",
    "                         ) AS cumulative_trips\n",
    "                    FROM trips_by_day\n",
    "                  \"\"\"\n",
    "\n",
    "# Run the query, and return a pandas DataFrame\n",
    "number_of_trips_result = client.query(bike_trips_query).result().to_dataframe()\n",
    "number_of_trips_result.head()"
   ]
  },
  {
   "cell_type": "markdown",
   "metadata": {},
   "source": [
    "We now have a table with the number of trips on a given date in 2015 as well as the total number of tips up to that date.\n",
    "## Bike Location on a Specific Day"
   ]
  },
  {
   "cell_type": "code",
   "execution_count": 23,
   "metadata": {
    "execution": {
     "iopub.execute_input": "2021-09-25T13:54:12.402481Z",
     "iopub.status.busy": "2021-09-25T13:54:12.402048Z",
     "iopub.status.idle": "2021-09-25T13:54:21.326969Z",
     "shell.execute_reply": "2021-09-25T13:54:21.326122Z",
     "shell.execute_reply.started": "2021-09-25T13:54:12.402440Z"
    }
   },
   "outputs": [],
   "source": [
    "# Query to identify each bikes location on a certain day at various times (4th of July, 2015)\n",
    "bike_trips_query = \"\"\"\n",
    "                    SELECT \n",
    "                        bike_id,\n",
    "                        TIME(start_date) AS trip_time,\n",
    "                        -- First station id tells us which station the bike started trips at that day -- \n",
    "                        FIRST_VALUE(start_station_id)\n",
    "                            OVER (\n",
    "                                PARTITION BY bike_id\n",
    "                                ORDER BY start_date\n",
    "                                ROWS BETWEEN UNBOUNDED PRECEDING AND UNBOUNDED FOLLOWING\n",
    "                             ) AS first_station_id,\n",
    "                         -- Last station id tells us which station the bike ended trips at that day-- \n",
    "                         LAST_VALUE(end_station_id)\n",
    "                            OVER (\n",
    "                                PARTITION BY bike_id\n",
    "                                ORDER BY start_date\n",
    "                                ROWS BETWEEN UNBOUNDED PRECEDING AND UNBOUNDED FOLLOWING\n",
    "                            ) AS last_station_id,\n",
    "                         start_station_id,\n",
    "                         end_station_id\n",
    "                    FROM `bigquery-public-data.london_bicycles.cycle_hire`\n",
    "                    -- The 21st of June is the summer solstice so which is the longest day of the year --\n",
    "                    WHERE DATE(start_date) = '2015-06-21' \n",
    "                  \"\"\"\n",
    "\n",
    "# Run the query, and return a pandas DataFrame\n",
    "bike_location_result = client.query(bike_trips_query).result().to_dataframe()\n",
    "bike_location_result.head(10)"
   ]
  },
  {
   "cell_type": "markdown",
   "metadata": {},
   "source": [
    "We not have a table with information on each of the bikes movements throught a certain day,which could help us identify the location of a certain bike in a certain time interval.\n",
    "\n",
    "## Bike Stations: Total Number of Trips and Average Trip Duration"
   ]
  },
  {
   "cell_type": "code",
   "execution_count": 8,
   "metadata": {
    "execution": {
     "iopub.execute_input": "2021-09-25T13:34:35.451579Z",
     "iopub.status.busy": "2021-09-25T13:34:35.451180Z",
     "iopub.status.idle": "2021-09-25T13:34:39.079793Z",
     "shell.execute_reply": "2021-09-25T13:34:39.079079Z",
     "shell.execute_reply.started": "2021-09-25T13:34:35.451535Z"
    }
   },
   "outputs": [],
   "source": [
    "# Query to count the number of trips by start station\n",
    "join_query = \"\"\"\n",
    "              -- Creating a sub query block c with start station, number of trips and duration--\n",
    "             WITH c AS\n",
    "             (\n",
    "             SELECT \n",
    "                 start_station_id, \n",
    "                  -- Calculating avergae trip durarion from each station --\n",
    "                 COUNT(*) as number_of_trips,\n",
    "                 -- Calculating avergae trip durarion from each station --\n",
    "                 ROUND(AVG(trip_duration_minutes)) AS avg_trip_duration_minutes\n",
    "             FROM (\n",
    "                 SELECT\n",
    "                 start_station_id,\n",
    "                 -- Calculating the trip duration in minutes -- \n",
    "                 DATETIME_DIFF(end_date,start_date,minute) AS trip_duration_minutes,\n",
    "                 FROM `bigquery-public-data.london_bicycles.cycle_hire`\n",
    "             ) \n",
    "             GROUP BY start_station_id\n",
    "             )\n",
    "             SELECT \n",
    "                 s.id as station_id, \n",
    "                 s.name,\n",
    "                 c.number_of_trips,\n",
    "                 c.avg_trip_duration_minutes \n",
    "             FROM `bigquery-public-data.london_bicycles.cycle_stations` AS s\n",
    "             LEFT JOIN c\n",
    "             ON s.id = c.start_station_id\n",
    "             ORDER BY c.number_of_trips DESC\n",
    "             \"\"\"\n",
    "\n",
    "# Run the query, and return a pandas DataFrame\n",
    "station_trip_duration_result = client.query(join_query).result().to_dataframe()\n",
    "station_trip_duration_result.head()"
   ]
  },
  {
   "cell_type": "markdown",
   "metadata": {},
   "source": [
    "We now have a table with statistics on the number of trips and average duration for trips starting at that station\n",
    "# Data Analysis\n",
    "\n",
    "Now that we have completed extracting the information we can perform some basic analysis on the data."
   ]
  },
  {
   "cell_type": "code",
   "execution_count": 57,
   "metadata": {
    "execution": {
     "iopub.execute_input": "2021-09-25T14:28:59.003143Z",
     "iopub.status.busy": "2021-09-25T14:28:59.002810Z",
     "iopub.status.idle": "2021-09-25T14:28:59.031369Z",
     "shell.execute_reply": "2021-09-25T14:28:59.030415Z",
     "shell.execute_reply.started": "2021-09-25T14:28:59.003114Z"
    }
   },
   "outputs": [],
   "source": [
    "trip_duration_result.groupby('trip_year').agg(total_trip_duration = ('trip_duration_minutes',np.sum),avg_trip_duration = ('trip_duration_minutes',np.mean) )\n",
    "\n"
   ]
  },
  {
   "cell_type": "markdown",
   "metadata": {},
   "source": [
    "<b>2016</b> was the year with the most ride time and the the longest aver trip duration.\n",
    "\n",
    "## Bike Locations and Number of Trips"
   ]
  },
  {
   "cell_type": "code",
   "execution_count": 49,
   "metadata": {
    "_kg_hide-output": true,
    "execution": {
     "iopub.execute_input": "2021-09-25T14:20:40.248666Z",
     "iopub.status.busy": "2021-09-25T14:20:40.248356Z",
     "iopub.status.idle": "2021-09-25T14:20:40.258086Z",
     "shell.execute_reply": "2021-09-25T14:20:40.257198Z",
     "shell.execute_reply.started": "2021-09-25T14:20:40.248638Z"
    }
   },
   "outputs": [],
   "source": [
    "#Identifying the top five stations where trips began\n",
    "bike_location_result['end_station_id'].value_counts().head(5)"
   ]
  },
  {
   "cell_type": "code",
   "execution_count": 50,
   "metadata": {
    "_kg_hide-output": true,
    "execution": {
     "iopub.execute_input": "2021-09-25T14:20:49.486387Z",
     "iopub.status.busy": "2021-09-25T14:20:49.486040Z",
     "iopub.status.idle": "2021-09-25T14:20:49.496069Z",
     "shell.execute_reply": "2021-09-25T14:20:49.495463Z",
     "shell.execute_reply.started": "2021-09-25T14:20:49.486358Z"
    }
   },
   "outputs": [],
   "source": [
    "#Identifying the top five stations where trips began\n",
    "bike_location_result['start_station_id'].value_counts().head(5)"
   ]
  },
  {
   "cell_type": "code",
   "execution_count": 46,
   "metadata": {
    "execution": {
     "iopub.execute_input": "2021-09-25T14:14:33.131455Z",
     "iopub.status.busy": "2021-09-25T14:14:33.130498Z",
     "iopub.status.idle": "2021-09-25T14:14:33.561722Z",
     "shell.execute_reply": "2021-09-25T14:14:33.560663Z",
     "shell.execute_reply.started": "2021-09-25T14:14:33.131386Z"
    }
   },
   "outputs": [],
   "source": [
    "# Analyzing the trip start times to identify how many trips begin at various times throughout the day.\n",
    "\n",
    "# Isolating the time portion from bks_df['start_time']\n",
    "start_time = data=bike_location_result['trip_time']\n",
    "\n",
    "start_time_counts = start_time.value_counts()\n",
    "\n",
    "#X-axis ticks will have to be set manually since the plot is difficult to read otherwise\n",
    "\n",
    "#Creating a series that will be populated using a for loop \n",
    "time_series = []\n",
    "for x in range(24):\n",
    "    #Note {:02d} ensures there are leading zeros (01,02,etc.) which is consistent with time formatting\n",
    "    time_series.append(\"{:02d}:00:00\".format(x))\n",
    "\n",
    "time_series.append(\"23:59:00\")\n",
    "\n",
    "fig_dims = (20, 4)\n",
    "fig, ax = plt.subplots(figsize=fig_dims)\n",
    "\n",
    "#The x-ticks are set to the time series just created\n",
    "start_time_counts.plot(xticks=time_series)\n",
    "plt.title(\"Ride Start Times throughout the Day\", fontsize=20)"
   ]
  },
  {
   "cell_type": "code",
   "execution_count": 47,
   "metadata": {
    "execution": {
     "iopub.execute_input": "2021-09-25T14:15:34.046677Z",
     "iopub.status.busy": "2021-09-25T14:15:34.045722Z",
     "iopub.status.idle": "2021-09-25T14:15:34.063825Z",
     "shell.execute_reply": "2021-09-25T14:15:34.063194Z",
     "shell.execute_reply.started": "2021-09-25T14:15:34.046634Z"
    }
   },
   "outputs": [],
   "source": [
    "from datetime import datetime\n",
    "#Identifying number of bikes that were on a trip between noon and 2 pm \n",
    "len(bike_location_result[(bike_location_result['trip_time'] > datetime.strptime('16:00:00','%H:%M:%S').time()) & (bike_location_result['trip_time'] < datetime.strptime('17:00:00','%H:%M:%S').time())])"
   ]
  },
  {
   "cell_type": "code",
   "execution_count": null,
   "metadata": {},
   "outputs": [],
   "source": [
    "#Identifying the top five bikes that made the most trips\n",
    "bike_location_result['bike_id'].value_counts().head(5)"
   ]
  },
  {
   "cell_type": "markdown",
   "metadata": {},
   "source": [
    "- The most trips began and ended at the <b>same five stations.</b> \n",
    "- The top five bike with the most trips made <b>15-17 trips</b> that day.\n",
    "- The most trips began between the hours of <b>4 pm and 5 pm</b> (2800 in that hour alone). \n",
    "\n",
    "## Bike Stations"
   ]
  },
  {
   "cell_type": "code",
   "execution_count": 13,
   "metadata": {
    "_kg_hide-output": true,
    "execution": {
     "iopub.execute_input": "2021-09-25T13:36:55.187542Z",
     "iopub.status.busy": "2021-09-25T13:36:55.186742Z",
     "iopub.status.idle": "2021-09-25T13:36:55.206358Z",
     "shell.execute_reply": "2021-09-25T13:36:55.205327Z",
     "shell.execute_reply.started": "2021-09-25T13:36:55.187494Z"
    }
   },
   "outputs": [],
   "source": [
    "#Identifying station with the longest averge trip duration.\n",
    "station_trip_duration_result[station_trip_duration_result['avg_trip_duration_minutes'] == station_trip_duration_result['avg_trip_duration_minutes'].max()]"
   ]
  },
  {
   "cell_type": "code",
   "execution_count": 14,
   "metadata": {
    "_kg_hide-output": true,
    "execution": {
     "iopub.execute_input": "2021-09-25T13:38:15.487555Z",
     "iopub.status.busy": "2021-09-25T13:38:15.487184Z",
     "iopub.status.idle": "2021-09-25T13:38:15.503196Z",
     "shell.execute_reply": "2021-09-25T13:38:15.502165Z",
     "shell.execute_reply.started": "2021-09-25T13:38:15.487524Z"
    }
   },
   "outputs": [],
   "source": [
    "#Identifying station with the shortest averge trip duration.\n",
    "station_trip_duration_result[station_trip_duration_result['avg_trip_duration_minutes'] == station_trip_duration_result['avg_trip_duration_minutes'].min()]"
   ]
  },
  {
   "cell_type": "code",
   "execution_count": 18,
   "metadata": {
    "_kg_hide-output": true,
    "execution": {
     "iopub.execute_input": "2021-09-25T13:46:35.183128Z",
     "iopub.status.busy": "2021-09-25T13:46:35.182806Z",
     "iopub.status.idle": "2021-09-25T13:46:35.198082Z",
     "shell.execute_reply": "2021-09-25T13:46:35.197082Z",
     "shell.execute_reply.started": "2021-09-25T13:46:35.183099Z"
    }
   },
   "outputs": [],
   "source": [
    "#Identifying station with the least number of trips\n",
    "station_trip_duration_result[station_trip_duration_result['number_of_trips'] == station_trip_duration_result['number_of_trips'].min()]"
   ]
  },
  {
   "cell_type": "code",
   "execution_count": 17,
   "metadata": {
    "_kg_hide-output": true,
    "execution": {
     "iopub.execute_input": "2021-09-25T13:39:56.754716Z",
     "iopub.status.busy": "2021-09-25T13:39:56.754433Z",
     "iopub.status.idle": "2021-09-25T13:39:56.765593Z",
     "shell.execute_reply": "2021-09-25T13:39:56.764337Z",
     "shell.execute_reply.started": "2021-09-25T13:39:56.754688Z"
    }
   },
   "outputs": [],
   "source": [
    "round(station_trip_duration_result['number_of_trips'].mean())"
   ]
  },
  {
   "cell_type": "markdown",
   "metadata": {},
   "source": [
    "On average, \n",
    "\n",
    "- The most trips start from <b>Belgrove Street , King's Cross station.</b>\n",
    "- The longest trips start from <b>Black Lion Gate, Kensington Gardens station.</b>\n",
    "- The least trips start from <b>Here East South, Queen Elizabeth Olympic Park station.</b>\n",
    "- We see that five stations have the shortest trip duration. The number of trips from these stations are also above average so these stations may be in a high traffic area where people are commuting short distances frequently."
   ]
  }
 ],
 "metadata": {
  "kernelspec": {
   "display_name": "Python 3",
   "language": "python",
   "name": "python3"
  },
  "language_info": {
   "codemirror_mode": {
    "name": "ipython",
    "version": 3
   },
   "file_extension": ".py",
   "mimetype": "text/x-python",
   "name": "python",
   "nbconvert_exporter": "python",
   "pygments_lexer": "ipython3",
   "version": "3.8.5"
  }
 },
 "nbformat": 4,
 "nbformat_minor": 4
}
